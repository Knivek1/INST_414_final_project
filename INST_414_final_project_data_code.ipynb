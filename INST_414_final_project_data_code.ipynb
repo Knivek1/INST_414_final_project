{
 "cells": [
  {
   "cell_type": "code",
   "execution_count": 4,
   "id": "a005d87b",
   "metadata": {},
   "outputs": [],
   "source": [
    "import requests\n",
    "import pandas as pd\n",
    "import matplotlib.pyplot as plt\n",
    "\n",
    "r = requests.get('https://opendata.maryland.gov/resource/dyym-bjv4.csv')\n",
    "if r.status_code == 200:\n",
    "    data = r.content\n",
    "else:\n",
    "    print(\"There was an error\")"
   ]
  },
  {
   "cell_type": "code",
   "execution_count": 5,
   "id": "24340044",
   "metadata": {},
   "outputs": [],
   "source": [
    "md_data = open(\"md_counties_data.csv\", \"wb\")\n",
    "md_data.write(data)\n",
    "md_data.close()"
   ]
  }
 ],
 "metadata": {
  "kernelspec": {
   "display_name": "Python 3 (ipykernel)",
   "language": "python",
   "name": "python3"
  },
  "language_info": {
   "codemirror_mode": {
    "name": "ipython",
    "version": 3
   },
   "file_extension": ".py",
   "mimetype": "text/x-python",
   "name": "python",
   "nbconvert_exporter": "python",
   "pygments_lexer": "ipython3",
   "version": "3.11.4"
  }
 },
 "nbformat": 4,
 "nbformat_minor": 5
}
